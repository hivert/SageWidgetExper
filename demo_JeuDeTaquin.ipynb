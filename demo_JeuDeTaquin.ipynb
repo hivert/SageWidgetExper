{
 "cells": [
  {
   "cell_type": "code",
   "execution_count": null,
   "metadata": {},
   "outputs": [],
   "source": [
    "#%xmode Plain\n",
    "from jeudetaquin import JeuDeTaquin"
   ]
  },
  {
   "cell_type": "code",
   "execution_count": null,
   "metadata": {},
   "outputs": [],
   "source": [
    "from sage_combinat_widgets import GridViewWidget"
   ]
  },
  {
   "cell_type": "code",
   "execution_count": null,
   "metadata": {},
   "outputs": [],
   "source": [
    "t = SkewTableau([[None,2,3],[None,4],[5]]) "
   ]
  },
  {
   "cell_type": "code",
   "execution_count": null,
   "metadata": {},
   "outputs": [],
   "source": [
    "GridViewWidget(t, display_convention='fr')"
   ]
  },
  {
   "cell_type": "code",
   "execution_count": null,
   "metadata": {},
   "outputs": [],
   "source": [
    "from sage_widget_adapters.combinat.skew_tableau_grid_view_adapter import SkewTableauGridViewAdapter\n",
    "class JeuDeTaquinGridViewAdapter(SkewTableauGridViewAdapter):\n",
    "    objclass = JeuDeTaquin\n",
    "    constructorname = 'JeuDeTaquin'\n",
    "    \n",
    "    @staticmethod\n",
    "    def cell_to_display(cell_content, display_type=None):\n",
    "        if cell_content == -1:\n",
    "            return '*'\n",
    "        return SkewTableauGridViewAdapter.cell_to_display(cell_content, display_type)\n",
    "        \n",
    "    def display_to_cell(self, display_value, display_type):\n",
    "        if display_value == '*':\n",
    "            return -1\n",
    "        return super(JeuDeTaquinGridViewAdapter, self).display_to_cell(display_value, display_type)\n",
    "\n",
    "    #@staticmethod\n",
    "    #def addable_cells(obj):\n",
    "    #    return []\n",
    "    \n",
    "    @staticmethod\n",
    "    def compute_cells(obj):\n",
    "        cells = SkewTableauGridViewAdapter.compute_cells(obj)\n",
    "        if obj._hole:\n",
    "            cells[obj._hole] = -1\n",
    "        print(cells)\n",
    "        return cells\n",
    "    \n",
    "    #@staticmethod\n",
    "    #def removable_cells(obj):\n",
    "    #    return obj.inner_shape().corners()\n",
    "\n",
    "jdt = JeuDeTaquin(t)\n",
    "A = JeuDeTaquinGridViewAdapter()"
   ]
  },
  {
   "cell_type": "code",
   "execution_count": null,
   "metadata": {},
   "outputs": [],
   "source": [
    "w = GridViewWidget(jdt, A, display_convention='fr')\n",
    "#w.removable_cells()\n",
    "w"
   ]
  },
  {
   "cell_type": "code",
   "execution_count": null,
   "metadata": {},
   "outputs": [],
   "source": [
    "#jdt.create_hole((1,0))\n",
    "\n",
    "from traitlets import Bunch\n",
    "#w.remove_cell(Bunch({'name': 'cell_0_3', 'old': 4, 'new': -1, 'owner': w, 'type': 'change'}))\n",
    "w.add_cell(Bunch({'name': 'add_1_0', 'old': 0, 'new': -1, 'owner': w, 'type': 'change'}))\n",
    "\n",
    "#w.compute()"
   ]
  },
  {
   "cell_type": "code",
   "execution_count": null,
   "metadata": {},
   "outputs": [],
   "source": [
    "w"
   ]
  },
  {
   "cell_type": "code",
   "execution_count": null,
   "metadata": {},
   "outputs": [],
   "source": [
    "w.set_cell(Bunch({'name': 'cell_1_0', 'old': -1, 'new': 4, 'owner': w, 'type': 'change'}))\n",
    "w.remove_cell(Bunch({'name': 'cell_1_1', 'old': 4, 'new': 0, 'owner': w, 'type': 'change'}))\n",
    "w"
   ]
  },
  {
   "cell_type": "code",
   "execution_count": null,
   "metadata": {},
   "outputs": [],
   "source": [
    "w.children[2].children"
   ]
  },
  {
   "cell_type": "code",
   "execution_count": null,
   "metadata": {},
   "outputs": [],
   "source": [
    "w.value"
   ]
  },
  {
   "cell_type": "code",
   "execution_count": null,
   "metadata": {},
   "outputs": [],
   "source": [
    "jdt"
   ]
  }
 ],
 "metadata": {
  "kernelspec": {
   "display_name": "SageMath 8.3",
   "language": "",
   "name": "sagemath"
  },
  "language_info": {
   "codemirror_mode": {
    "name": "ipython",
    "version": 2
   },
   "file_extension": ".py",
   "mimetype": "text/x-python",
   "name": "python",
   "nbconvert_exporter": "python",
   "pygments_lexer": "ipython2",
   "version": "2.7.15"
  }
 },
 "nbformat": 4,
 "nbformat_minor": 2
}
