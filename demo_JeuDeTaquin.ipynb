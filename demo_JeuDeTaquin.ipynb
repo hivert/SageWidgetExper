{
 "cells": [
  {
   "cell_type": "code",
   "execution_count": null,
   "metadata": {},
   "outputs": [],
   "source": [
    "%xmode Plain\n",
    "from jeudetaquin import JeuDeTaquin"
   ]
  },
  {
   "cell_type": "code",
   "execution_count": null,
   "metadata": {},
   "outputs": [],
   "source": [
    "from sage_combinat_widgets import GridViewWidget"
   ]
  },
  {
   "cell_type": "code",
   "execution_count": null,
   "metadata": {},
   "outputs": [],
   "source": [
    "t = SkewTableau([[None,2,3],[None,4],[5]]) "
   ]
  },
  {
   "cell_type": "code",
   "execution_count": null,
   "metadata": {},
   "outputs": [],
   "source": [
    "GridViewWidget(t, display_convention='fr')"
   ]
  },
  {
   "cell_type": "code",
   "execution_count": null,
   "metadata": {},
   "outputs": [],
   "source": [
    "jdt = JeuDeTaquin(t)"
   ]
  },
  {
   "cell_type": "code",
   "execution_count": null,
   "metadata": {},
   "outputs": [],
   "source": [
    "from sage_widget_adapters.combinat.skew_tableau_grid_view_adapter import SkewTableauGridViewAdapter\n",
    "A = SkewTableauGridViewAdapter()\n",
    "GridViewWidget(jdt, A, display_convention='fr')"
   ]
  },
  {
   "cell_type": "code",
   "execution_count": null,
   "metadata": {},
   "outputs": [],
   "source": [
    "from sage_widget_adapters.generic_grid_view_adapter import GridViewAdapter\n",
    "from sage_widget_adapters.combinat.skew_tableau_grid_view_adapter import SkewTableauGridViewAdapter\n",
    "from sage.rings.integer import Integer\n",
    "from six import text_type\n",
    "\n",
    "tab_adapter = SkewTableauGridViewAdapter()\n",
    "\n",
    "class JeuDeTaquinGridViewAdapter(GridViewAdapter):\n",
    "    objclass = JeuDeTaquin\n",
    "    celltype = Integer\n",
    "    cellzero = Integer(0)\n",
    "\n",
    "    @staticmethod\n",
    "    def compute_cells(obj):\n",
    "        if not obj._new_st:\n",
    "            return tab_adapter.compute_cells(obj._tab)\n",
    "        cells = {}\n",
    "        for i in range(len(obj._new_st)):\n",
    "            r = obj._new_st[i]\n",
    "            for j in range(len(r)):\n",
    "                if r[j] is None:\n",
    "                    continue\n",
    "                if r[j] == '*':\n",
    "                    cells[(i,j)] = -1  # We probably need a unique `celltype`\n",
    "                else:\n",
    "                    cells[(i,j)] = r[j]\n",
    "        return cells\n",
    "\n",
    "    @classmethod\n",
    "    def from_cells(cls, cells={}):\n",
    "        tabcells = {}\n",
    "        hole = None\n",
    "        for pos in cells:\n",
    "            if cells[pos] > 0:\n",
    "                tabcells[pos] = cells[pos]\n",
    "            elif cells[pos] == -1:\n",
    "                if hole:\n",
    "                    raise ValueError(\"This cells dictionary has more than one hole (%s and %s)! % (hole, pos)\")\n",
    "                hole = pos\n",
    "        jdt = cls.objclass(tab_adapter.from_cells(tabcells))\n",
    "        if hole:\n",
    "            jdt._hole = hole\n",
    "            new_st = jdt._tab.to_list()\n",
    "            new_st[hole[0]][hole[1]] = '*'\n",
    "\n",
    "    @staticmethod\n",
    "    def cell_to_display(cell_content, display_type=text_type):\n",
    "        if cell_content == -1:\n",
    "            return '*'\n",
    "        return str(cell_content)\n",
    "\n",
    "    @staticmethod\n",
    "    def display_to_cell(cell_content, display_type=None):\n",
    "        if cell_content == '*':\n",
    "            return -1\n",
    "        return Integer(cell_content)\n",
    "\n",
    "    #def create_hole(cls, obj, corner):\n",
    "    #    obj.create_hole(corner)\n",
    "    #    return obj\n",
    "        \n",
    "jdt = JeuDeTaquin(t)            \n",
    "A = JeuDeTaquinGridViewAdapter()"
   ]
  },
  {
   "cell_type": "code",
   "execution_count": null,
   "metadata": {},
   "outputs": [],
   "source": [
    "w = GridViewWidget(jdt, A, display_convention='fr')\n",
    "w"
   ]
  },
  {
   "cell_type": "code",
   "execution_count": null,
   "metadata": {},
   "outputs": [],
   "source": [
    "jdt.create_hole((1,0))"
   ]
  },
  {
   "cell_type": "code",
   "execution_count": null,
   "metadata": {},
   "outputs": [],
   "source": [
    "w"
   ]
  },
  {
   "cell_type": "code",
   "execution_count": null,
   "metadata": {},
   "outputs": [],
   "source": [
    "jdt"
   ]
  }
 ],
 "metadata": {
  "kernelspec": {
   "display_name": "SageMath 8.3",
   "language": "",
   "name": "sagemath"
  },
  "language_info": {
   "codemirror_mode": {
    "name": "ipython",
    "version": 2
   },
   "file_extension": ".py",
   "mimetype": "text/x-python",
   "name": "python",
   "nbconvert_exporter": "python",
   "pygments_lexer": "ipython2",
   "version": "2.7.15"
  }
 },
 "nbformat": 4,
 "nbformat_minor": 2
}
