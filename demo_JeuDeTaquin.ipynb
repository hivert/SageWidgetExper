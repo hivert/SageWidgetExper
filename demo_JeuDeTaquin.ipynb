{
 "cells": [
  {
   "cell_type": "code",
   "execution_count": null,
   "metadata": {},
   "outputs": [],
   "source": [
    "#%xmode Plain\n",
    "from jeudetaquin import JeuDeTaquin\n",
    "t = SkewTableau([[None,2,3],[None,4],[5]]) "
   ]
  },
  {
   "cell_type": "code",
   "execution_count": null,
   "metadata": {},
   "outputs": [],
   "source": [
    "from sage_combinat_widgets import GridViewWidget\n",
    "from sage_combinat_widgets.grid_view_editor import get_adapter"
   ]
  },
  {
   "cell_type": "code",
   "execution_count": null,
   "metadata": {},
   "outputs": [],
   "source": [
    "ta = get_adapter(t)\n",
    "#ta.celltype, ta.cellzero, ta.traitclass, ta.objclass"
   ]
  },
  {
   "cell_type": "code",
   "execution_count": null,
   "metadata": {},
   "outputs": [],
   "source": [
    "g = GridViewWidget(t, display_convention='fr')\n",
    "g"
   ]
  },
  {
   "cell_type": "code",
   "execution_count": null,
   "metadata": {},
   "outputs": [],
   "source": [
    "#for l in g.links:\n",
    "#    print(l)"
   ]
  },
  {
   "cell_type": "code",
   "execution_count": null,
   "metadata": {},
   "outputs": [],
   "source": [
    "from sage_widget_adapters.combinat.skew_tableau_grid_view_adapter import SkewTableauGridViewAdapter\n",
    "class JeuDeTaquinGridViewAdapter(SkewTableauGridViewAdapter):\n",
    "    objclass = JeuDeTaquin\n",
    "    constructorname = 'JeuDeTaquin'\n",
    "    addablecelltype = bool\n",
    "    addablecellzero = False\n",
    "\n",
    "    def display_to_cell(self, display_value, display_type):\n",
    "        if type(display_value) == bool:\n",
    "            return display_value\n",
    "        return super(JeuDeTaquinGridViewAdapter, self).display_to_cell(display_value, display_type)\n",
    "\n",
    "    @staticmethod\n",
    "    def addable_cells(obj):\n",
    "        if obj._hole:\n",
    "            return [obj._hole]\n",
    "        return obj.inner_shape().corners()\n",
    "    \n",
    "    @staticmethod\n",
    "    def removable_cells(obj):\n",
    "        if not obj._hole:\n",
    "            return []\n",
    "        if obj._hole in obj.outer_shape().corners():\n",
    "            return (obj._hole[0] - 1, obj._hole[1])\n",
    "        else:\n",
    "            return (obj._hole[0], obj._hole[1] + 1)\n",
    "\n",
    "    @classmethod\n",
    "    def set_cell(cls, obj, pos, val):\n",
    "        if not obj._new_st:\n",
    "            return super(JeuDeTaquinGridViewAdapter, cls).set_cell(obj, pos, val)\n",
    "        for i in range(len(obj._new_st)):\n",
    "            for j in range(len(obj._new_st[i])):\n",
    "                if (i, j) == pos:\n",
    "                    obj._new_st[i][j] = val\n",
    "                    break\n",
    "        return obj\n",
    "        \n",
    "    @classmethod\n",
    "    def add_cell(cls, obj, pos, val):\n",
    "        r'''\n",
    "        create hole, then slide and return a new tab if possible, \n",
    "        otherwise the old tab with a `_new_st` list\n",
    "        '''\n",
    "        #print('hole=', obj._hole) # FIXME le trou ne suit pas\n",
    "        if not obj.has_hole():\n",
    "            obj.create_hole(pos)\n",
    "        assert pos == obj._hole # check before sliding\n",
    "        obj.slide()\n",
    "        try:\n",
    "            new_obj.__init__(obj._new_st)\n",
    "            new_obj._hole = obj._hole\n",
    "        except:\n",
    "            new_obj = obj\n",
    "        #print(obj)\n",
    "        return obj\n",
    "\n",
    "    @staticmethod\n",
    "    def compute_cells(obj):\n",
    "        cells = SkewTableauGridViewAdapter.compute_cells(obj)\n",
    "        if obj._hole:\n",
    "            cells[obj._hole] = False\n",
    "        if obj._new_st:\n",
    "            for i in range(len(obj._new_st)):\n",
    "                for j in range(len(obj._new_st[i])):\n",
    "                    if obj._new_st[i][j] > 0:\n",
    "                        cells[(i,j)] = obj._new_st[i][j]\n",
    "                    else:\n",
    "                        del(cells[(i,j)])\n",
    "        #print(cells)\n",
    "        return cells\n",
    "\n",
    "jdt = JeuDeTaquin(t)\n",
    "A = JeuDeTaquinGridViewAdapter()\n",
    "#A.celltype, A.cellzero, A.traitclass, A.objclass, A.constructorname"
   ]
  },
  {
   "cell_type": "code",
   "execution_count": null,
   "metadata": {},
   "outputs": [],
   "source": [
    "from sage_combinat_widgets.grid_view_widget import DisabledTextCell, AddableButtonCell#, textcell_layout\n",
    "#from ipywidgets import Layout\n",
    "#hole_layout = Layout(width='3em',height='2em', margin='0', padding='20px')\n",
    "\n",
    "class JDTHoleWidget(AddableButtonCell):\n",
    "    def __init__(self, position, layout=None, **kws):\n",
    "        super(JDTHoleWidget, self).__init__(position, layout, **kws)\n",
    "        self.description = '?'\n",
    "        #print(self.position, self.value)\n",
    "        #self.remove_class('addablebutton')\n",
    "        #self.add_class('blankcell')\n",
    "\n",
    "w = GridViewWidget(jdt, A, display_convention='fr', cell_widget_classes=[DisabledTextCell], addable_widget_class=JDTHoleWidget)"
   ]
  },
  {
   "cell_type": "code",
   "execution_count": null,
   "metadata": {},
   "outputs": [],
   "source": [
    "# The player sees the initial jeu de taquin, with an clickable button for each possible hole.\n",
    "w"
   ]
  },
  {
   "cell_type": "code",
   "execution_count": null,
   "metadata": {},
   "outputs": [],
   "source": [
    "w.value"
   ]
  }
 ],
 "metadata": {
  "kernelspec": {
   "display_name": "SageMath 8.3",
   "language": "",
   "name": "sagemath"
  },
  "language_info": {
   "codemirror_mode": {
    "name": "ipython",
    "version": 2
   },
   "file_extension": ".py",
   "mimetype": "text/x-python",
   "name": "python",
   "nbconvert_exporter": "python",
   "pygments_lexer": "ipython2",
   "version": "2.7.15"
  }
 },
 "nbformat": 4,
 "nbformat_minor": 2
}
