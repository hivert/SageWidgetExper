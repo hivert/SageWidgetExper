{
 "cells": [
  {
   "cell_type": "code",
   "execution_count": null,
   "metadata": {},
   "outputs": [],
   "source": [
    "#%xmode Plain\n",
    "from jeudetaquin import JeuDeTaquin"
   ]
  },
  {
   "cell_type": "code",
   "execution_count": null,
   "metadata": {},
   "outputs": [],
   "source": [
    "from sage_combinat_widgets import GridViewWidget"
   ]
  },
  {
   "cell_type": "code",
   "execution_count": null,
   "metadata": {},
   "outputs": [],
   "source": [
    "t = SkewTableau([[None,2,3],[None,4],[5]]) "
   ]
  },
  {
   "cell_type": "code",
   "execution_count": null,
   "metadata": {},
   "outputs": [],
   "source": [
    "g = GridViewWidget(t, display_convention='fr')\n",
    "g"
   ]
  },
  {
   "cell_type": "code",
   "execution_count": null,
   "metadata": {},
   "outputs": [],
   "source": [
    "#for l in g.links:\n",
    "#    print(l)"
   ]
  },
  {
   "cell_type": "code",
   "execution_count": null,
   "metadata": {},
   "outputs": [],
   "source": [
    "from sage_widget_adapters.combinat.skew_tableau_grid_view_adapter import SkewTableauGridViewAdapter\n",
    "class JeuDeTaquinGridViewAdapter(SkewTableauGridViewAdapter):\n",
    "    objclass = JeuDeTaquin\n",
    "    constructorname = 'JeuDeTaquin'\n",
    "    \n",
    "    @staticmethod\n",
    "    def cell_to_display(cell_content, display_type=None):\n",
    "        if cell_content == -1:\n",
    "            return True\n",
    "        if cell_content == 0:\n",
    "            return False\n",
    "        return SkewTableauGridViewAdapter.cell_to_display(cell_content, display_type)\n",
    "        \n",
    "    def display_to_cell(self, display_value, display_type):\n",
    "        if display_value == True:\n",
    "            return -1\n",
    "        if display_value == False:\n",
    "            return 0\n",
    "        return super(JeuDeTaquinGridViewAdapter, self).display_to_cell(display_value, display_type)\n",
    "\n",
    "    @staticmethod\n",
    "    def addable_cells(obj):\n",
    "        if obj._hole:\n",
    "            return []\n",
    "        return obj.inner_shape().corners()\n",
    "    \n",
    "    @staticmethod\n",
    "    def removable_cells(obj):\n",
    "        #print(obj)\n",
    "        #print(obj._hole)\n",
    "        if not obj._hole:\n",
    "            return []\n",
    "        if obj._hole in obj.outer_shape().corners():\n",
    "            return (obj._hole[0] - 1, obj._hole[1])\n",
    "        else:\n",
    "            return (obj._hole[0], obj._hole[1] + 1)\n",
    "            \n",
    "    @classmethod\n",
    "    def add_cell(cls, obj, pos, val):\n",
    "        r'''\n",
    "        create hole, then slide and return a new tab if possible, \n",
    "        otherwise the old tab with a `_new_st` list\n",
    "        '''\n",
    "        obj.create_hole(pos)\n",
    "        obj.slide()\n",
    "        #if self._hole:\n",
    "        #    return obj\n",
    "        try:\n",
    "            obj.__init__(obj._new_st)\n",
    "        except:\n",
    "            pass\n",
    "        #print(obj)\n",
    "        return obj\n",
    "\n",
    "    @staticmethod\n",
    "    def compute_cells(obj):\n",
    "        cells = SkewTableauGridViewAdapter.compute_cells(obj)\n",
    "        if obj._hole:\n",
    "            cells[obj._hole] = -1\n",
    "        #print(cells)\n",
    "        return cells\n",
    "\n",
    "jdt = JeuDeTaquin(t)\n",
    "A = JeuDeTaquinGridViewAdapter()"
   ]
  },
  {
   "cell_type": "code",
   "execution_count": null,
   "metadata": {},
   "outputs": [],
   "source": [
    "from sage_combinat_widgets.grid_view_widget import AddableButtonCell#, textcell_layout\n",
    "#from ipywidgets import Layout\n",
    "#hole_layout = Layout(width='3em',height='2em', margin='0', padding='20px')\n",
    "\n",
    "class JDTHoleWidget(AddableButtonCell):\n",
    "    def __init__(self, position, layout=None, **kws):\n",
    "        super(JDTHoleWidget, self).__init__(position, layout, **kws)\n",
    "        self.description = '?'\n",
    "        #self.remove_class('addablebutton')\n",
    "        #self.add_class('blankcell')\n",
    "w = GridViewWidget(jdt, A, display_convention='fr', addable_widget_class=JDTHoleWidget)\n",
    "#w.removable_cells()\n",
    "#w.traits()\n",
    "# The player sees the initial jeu de taquin, with an clickable button for each possible hole.\n",
    "#for l in w.links:\n",
    "#    print(l)"
   ]
  },
  {
   "cell_type": "code",
   "execution_count": null,
   "metadata": {},
   "outputs": [],
   "source": [
    "# The player clicks on the possible hole -> the widget calls `add_cell` in the adapter\n",
    "#from traitlets import Bunch\n",
    "#w.add_cell(Bunch({'name': 'add_1_0', 'old': 0, 'new': -1, 'owner': w, 'type': 'change'}))"
   ]
  },
  {
   "cell_type": "code",
   "execution_count": null,
   "metadata": {},
   "outputs": [],
   "source": [
    "#w.set_cell(Bunch({'name': 'cell_1_0', 'old': -1, 'new': 4, 'owner': w, 'type': 'change'}))\n",
    "#w.remove_cell(Bunch({'name': 'cell_1_1', 'old': 4, 'new': 0, 'owner': w, 'type': 'change'}))\n",
    "#w.traits()"
   ]
  },
  {
   "cell_type": "code",
   "execution_count": null,
   "metadata": {},
   "outputs": [],
   "source": [
    "w"
   ]
  },
  {
   "cell_type": "code",
   "execution_count": null,
   "metadata": {},
   "outputs": [],
   "source": [
    "w.value"
   ]
  },
  {
   "cell_type": "code",
   "execution_count": null,
   "metadata": {},
   "outputs": [],
   "source": [
    "jdt"
   ]
  }
 ],
 "metadata": {
  "kernelspec": {
   "display_name": "SageMath 8.3",
   "language": "",
   "name": "sagemath"
  },
  "language_info": {
   "codemirror_mode": {
    "name": "ipython",
    "version": 2
   },
   "file_extension": ".py",
   "mimetype": "text/x-python",
   "name": "python",
   "nbconvert_exporter": "python",
   "pygments_lexer": "ipython2",
   "version": "2.7.15"
  }
 },
 "nbformat": 4,
 "nbformat_minor": 2
}
