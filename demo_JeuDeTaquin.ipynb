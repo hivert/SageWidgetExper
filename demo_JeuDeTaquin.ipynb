{
 "cells": [
  {
   "cell_type": "code",
   "execution_count": null,
   "metadata": {},
   "outputs": [],
   "source": [
    "%xmode Plain\n",
    "from jeudetaquin import JeuDeTaquin"
   ]
  },
  {
   "cell_type": "code",
   "execution_count": null,
   "metadata": {},
   "outputs": [],
   "source": [
    "from sage_combinat_widgets import GridViewWidget"
   ]
  },
  {
   "cell_type": "code",
   "execution_count": null,
   "metadata": {},
   "outputs": [],
   "source": [
    "t = SkewTableau([[None,2,3],[None,4],[5]]) "
   ]
  },
  {
   "cell_type": "code",
   "execution_count": null,
   "metadata": {},
   "outputs": [],
   "source": [
    "GridViewWidget(t, display_convention='fr')"
   ]
  },
  {
   "cell_type": "code",
   "execution_count": null,
   "metadata": {},
   "outputs": [],
   "source": [
    "jdt = JeuDeTaquin(t)"
   ]
  },
  {
   "cell_type": "code",
   "execution_count": null,
   "metadata": {},
   "outputs": [],
   "source": [
    "from sage_widget_adapters.combinat.skew_tableau_grid_view_adapter import SkewTableauGridViewAdapter\n",
    "A = SkewTableauGridViewAdapter()\n",
    "GridViewWidget(jdt, A, display_convention='fr')"
   ]
  },
  {
   "cell_type": "code",
   "execution_count": null,
   "metadata": {},
   "outputs": [],
   "source": [
    "from sage_widget_adapters.generic_grid_view_adapter import GridViewAdapter\n",
    "from sage_widget_adapters.combinat.skew_tableau_grid_view_adapter import SkewTableauGridViewAdapter\n",
    "tab_adapter = SkewTableauGridViewAdapter()\n",
    "\n",
    "class JeuDeTaquinGridViewAdapter(GridViewAdapter):\n",
    "    objclass = JeuDeTaquin\n",
    "    celltype = Integer\n",
    "    cellzero = Integer(0)    \n",
    "\n",
    "    @staticmethod\n",
    "    def compute_cells(obj):\n",
    "        return tab_adapter.compute_cells(obj._tab)\n",
    "\n",
    "A = JeuDeTaquinGridViewAdapter()"
   ]
  },
  {
   "cell_type": "code",
   "execution_count": null,
   "metadata": {},
   "outputs": [],
   "source": [
    "w = GridViewWidget(jdt, A, display_convention='fr')\n",
    "w"
   ]
  },
  {
   "cell_type": "code",
   "execution_count": null,
   "metadata": {},
   "outputs": [],
   "source": [
    "jdt.create_hole((1,0))"
   ]
  },
  {
   "cell_type": "code",
   "execution_count": null,
   "metadata": {},
   "outputs": [],
   "source": [
    "w"
   ]
  }
 ],
 "metadata": {
  "kernelspec": {
   "display_name": "SageMath 8.3",
   "language": "",
   "name": "sagemath"
  },
  "language_info": {
   "codemirror_mode": {
    "name": "ipython",
    "version": 2
   },
   "file_extension": ".py",
   "mimetype": "text/x-python",
   "name": "python",
   "nbconvert_exporter": "python",
   "pygments_lexer": "ipython2",
   "version": "2.7.15"
  }
 },
 "nbformat": 4,
 "nbformat_minor": 2
}
